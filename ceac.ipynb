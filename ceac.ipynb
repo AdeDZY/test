{
 "metadata": {
  "name": "",
  "signature": "sha256:d1e53deef5b93402860dea3723d815f97cbbd5e64847f6a81970cbc1de4d86ea"
 },
 "nbformat": 3,
 "nbformat_minor": 0,
 "worksheets": [
  {
   "cells": [
    {
     "cell_type": "code",
     "collapsed": false,
     "input": [
      "import ClientForm\n",
      "from urllib2 import urlopen\n"
     ],
     "language": "python",
     "metadata": {},
     "outputs": [],
     "prompt_number": 41
    },
    {
     "cell_type": "code",
     "collapsed": false,
     "input": [
      "urlopen.\n",
      "forms = ClientForm.ParseResponse(urlopen(\"https://ceac.state.gov/CEACStatTracker/Status.aspx?eQs=WwjqOlbeRYzCYubaSQI+RA==\"))"
     ],
     "language": "python",
     "metadata": {},
     "outputs": [],
     "prompt_number": 42
    },
    {
     "cell_type": "code",
     "collapsed": false,
     "input": [
      "print forms"
     ],
     "language": "python",
     "metadata": {},
     "outputs": [
      {
       "output_type": "stream",
       "stream": "stdout",
       "text": [
        "[<ClientForm.HTMLForm instance at 0x1047089e0>]\n"
       ]
      }
     ],
     "prompt_number": 43
    },
    {
     "cell_type": "code",
     "collapsed": false,
     "input": [
      "form = forms[0]\n",
      "print form"
     ],
     "language": "python",
     "metadata": {},
     "outputs": [
      {
       "output_type": "stream",
       "stream": "stdout",
       "text": [
        "<POST https://ceac.state.gov/CEACStatTracker/Status.aspx?App=NIV multipart/form-data\n",
        "  <HiddenControl(ctl00_ToolkitScriptManager1_HiddenField=) (readonly)>\n",
        "  <HiddenControl(__VIEWSTATE=/wEPaA8FDzhkMjdlZGRiZmNmNzM1YhgBBR5fX0NvbnRyb2xzUmVxdWlyZVBvc3RCYWNrS2V5X18WAQUjY3RsMDAkQ29udGVudFBsYWNlSG9sZGVyMSRidG5TdWJtaXRL9Ez7A0wRC4p/HBKnmBLzzmy25Q==) (readonly)>\n",
        "  <HiddenControl(__VIEWSTATEGENERATOR=DBF1011F) (readonly)>\n",
        "  <HiddenControl(__EVENTVALIDATION=/wEW6QEC/56LMAK654HdAwLcqs7DBgLF9PH2AgLX7qvwCgL0x9e0DwLm2Z7fAgKRwPfeDwL+2e7fAgL+mNR1AsTcorYCApTO7LQIAoGx5usOAtSd5Z8MAomV7J8DAoim7MAEAvqYgHYC/9mK3wICqNGtwAEChZWInwMC0a6xwAEC/piEdgLhrdC2BAKUsbLrDgLxx7u1DwLrrYC3BALK4/2ABQLuzpi0CAL02frfAgLtq4npAQKhuJPqCwL8x++1DwLpzsC0CALuq5npAQKfwNPeDwKCwP/eDwKxuN/qCwLi2Z7fAgK91JW2AQL/sqv0CwKTwPfeDwLjq5XpAQL2x5+1DwKQse7rDgK95+apBgKFsebrDgKy5/qpBgK9uJPqCwKEsbbrDgKxuJ/qCwLZspv0CwLmrby3BAKDwMfeDwL9tP7BDgKTsdLqDgLhrYi3BAKOlfCfAwKiuPvqCwKwuOvqCwKBzrC0CALT3Oa1AgL6mMB1AoDAr98PAoaV1J8DAp6D6fUNAquK5vQOArnNs6wPAqmKpvUOAruKvvUOAu+Y1HUCrZzRngwCpYr+9A4C7/z9qgUC/certQ8CopzJngwC3tzWtQIC5JisdgLsmIR2ApPO+LQIAoWVkJ8DAv3H17QPAsvHl7UPApmV3J8DAoCVwJ8DAo3n4qkGAubqloAGAuX8+aoFAr+K4vQOAr3U5bYBAoTAm94PAtyuxd8BAo/UpbYBAqG49+oLAsTj4YAFAqmc5Z8MAo/nzqkGAunO6LQIAq+cvZ8MAt6uyd8BAprOxLQIAufq2p8GAuzOxLQIAs3H17QPAt/cyrUCAt3jwYAFAoCV5J8DAvfH77UPAsiyt/QLApvA/94PAqrR0d8BAvDZkt8CAqOK/vQOArDU9bYBAv60ysEOAuaYhHYC7/yFqgUC89ni3wICkrHi6w4Clc7EtAgCnLGS6w4C1q7R3wECh7G26w4C5NnW3gICk7Hm6w4C+ZjYdQKo36K2AgL/x4u1DwLq/KmrBQKritr0DgKSsbbrDgL1x4u1DwL0x7+1DwLg/LWqBQL/x7+1DwK8uO/qCwLSrrnAAQL5x5+1DwKyuJPqCwLAx9+0DwLP4+2ABQLr/PmqBQLE4+2ABQLSn7BsAsTjoYEFAvfHw7QPAvfHh7UPAreV/J8DAvTHo7UPAv+YvHYCiJXknwMC0Z3dngwC6s7AtAgCitSxtgEC266twAECsaaIwAQC/ZiodgKIldifAwLVrvHfAQKdwP/eDwLItPLBDgK3poDABAL4mPB1Av2rlekBAsjHk7UPAp6x4usOAvLHk7UPArfnpqoGAsLj9YAFAp78gaoFAp78+aoFAoSV2J8DAv7Zjt8CAvbHp7UPAt+utcABAvf1jKsIApPOwLQIAtGdiZ8MAvnquoAGAs20rsIOAufqqoAGAvmY0HUChLH+6w4C+NmC3wICza753wEC9MfDtA8C2+PRgAUCq5zJngwC052lnwwC2+PFgAUCksD33g8CmZXEnwMCsNSptgEC/piMdgKypuDABAKUsf7rDgLrzsS0CAKNlfSfAwKriuL0DgKunMmeDALh/JmqBQKcsZ7rDgKe/PGqBQL/2brfAgLHrr3AAQKFlYCfAwLwmKh2Ao6DjfUNAuvO/LQIAvCYhHYC1q7F3wEChpX0nwMC6vyNqgUC7JiMdgLgmNR1AtWuxd8BApqx4usOAqKcrZ8MAojUgbYBAtbclrUCAqKcwZ4MAuvOyLQIAqjfqrYCAoWxnusOAv+YhHYCi5WQnwMClvy9qgUClbH+6w4C5dm+3wIC+JiIdgLOsuP0CwL0sprmDgLmwPTHBAL40JWiCrlJbFdyOlLdJ7rnrJZeaI67Oljq) (readonly)>\n",
        "  <SelectControl(ctl00$ContentPlaceHolder1$ddlApplications=[IV, *NIV])>\n",
        "  <SelectControl(ctl00$ContentPlaceHolder1$ddlLocation=[*, KBL, TIA, ALG, LUA, BNS, YRV, MLB, PRT, SYD, VNN, BKU, NSS, MNA, DHK, BGN, MSK, BRS, BLZ, COT, HML, LPZ, SAR, GAB, BRA, RCF, RDJ, SPL, BSB, SOF, OUG, RNG, BUJ, PIA, PHP, YDE, CLG, HLF, MTL, OTT, QBC, TRT, VAC, NDJ, SNT, BEJ, CHE, GUZ, SHG, SNY, BGT, BRZ, KIN, SNJ, ABJ, ZGB, HAV, NCS, PRG, CPN, DJI, SDO, GYQ, QTO, CRO, SNS, LND, MBO, ASM, TAL, ADD, SUV, HLS, PRS, LIB, BAN, TBL, BRL, FRN, MUN, ACC, ATH, GTM, GEO, PTP, TGG, HNK, BDP, RKJ, MDR, HYD, CLC, BMB, NWD, JAK, SRB, BGH, ERB, DBL, TLV, FLR, MLN, NPL, RME, KNG, FKK, NHA, KBO, SPP, TKY, JRS, AMM, ATA, AST, NRB, KWT, BKK, VNT, RGA, BRT, MAS, MRV, VIL, LXM, SKO, ANT, LIL, KLL, BAM, VLL, MAJ, NUK, PTL, CDJ, GDL, HER, MTM, MER, MEX, MTR, NGL, NVL, TJN, KOL, CHS, ULN, POD, CSB, MAP, WHK, KDU, AMS, USN, ACK, MNG, NMY, ABU, LGS, BLF, OSL, MST, ISL, KRC, KOR, PNM, PTM, ASN, LMA, MNL, KRK, WRW, LSB, PTD, DOH, CRY, BCH, MOS, SPT, VLA, YEK, KGL, DHR, JDD, RID, DKR, BLG, FTN, SGP, BTS, LJU, CPT, DRB, JHN, SEO, MDD, CLM, KHT, PRM, MBA, STK, BEN, DMS, TAI, DHB, DRS, BNK, CHN, LOM, PTS, TNS, ANK, IST, AKD, KMP, KEV, ABD, DUB, MTV, THT, CRS, HAN, HCM, DPT, SAA, LUS, HRE])>\n",
        "  <TextControl(ctl00$ContentPlaceHolder1$txbCase=)>\n",
        "  <ImageControl(ctl00$ContentPlaceHolder1$btnSubmit=<None>)>>\n"
       ]
      }
     ],
     "prompt_number": 44
    },
    {
     "cell_type": "code",
     "collapsed": false,
     "input": [
      "control = form.find_control(name=\"ctl00$ContentPlaceHolder1$ddlApplications\")"
     ],
     "language": "python",
     "metadata": {},
     "outputs": [],
     "prompt_number": 45
    },
    {
     "cell_type": "code",
     "collapsed": false,
     "input": [
      "form[\"ctl00$ContentPlaceHolder1$ddlLocation\"] = [\"SHG\"]"
     ],
     "language": "python",
     "metadata": {},
     "outputs": [],
     "prompt_number": 46
    },
    {
     "cell_type": "code",
     "collapsed": false,
     "input": [
      "form[\"ctl00$ContentPlaceHolder1$txbCase\"] = \"AA0050255Q\""
     ],
     "language": "python",
     "metadata": {},
     "outputs": [],
     "prompt_number": 47
    },
    {
     "cell_type": "code",
     "collapsed": false,
     "input": [
      "print form"
     ],
     "language": "python",
     "metadata": {},
     "outputs": [
      {
       "output_type": "stream",
       "stream": "stdout",
       "text": [
        "<POST https://ceac.state.gov/CEACStatTracker/Status.aspx?App=NIV multipart/form-data\n",
        "  <HiddenControl(ctl00_ToolkitScriptManager1_HiddenField=) (readonly)>\n",
        "  <HiddenControl(__VIEWSTATE=/wEPaA8FDzhkMjdlZGRiZmNmNzM1YhgBBR5fX0NvbnRyb2xzUmVxdWlyZVBvc3RCYWNrS2V5X18WAQUjY3RsMDAkQ29udGVudFBsYWNlSG9sZGVyMSRidG5TdWJtaXRL9Ez7A0wRC4p/HBKnmBLzzmy25Q==) (readonly)>\n",
        "  <HiddenControl(__VIEWSTATEGENERATOR=DBF1011F) (readonly)>\n",
        "  <HiddenControl(__EVENTVALIDATION=/wEW6QEC/56LMAK654HdAwLcqs7DBgLF9PH2AgLX7qvwCgL0x9e0DwLm2Z7fAgKRwPfeDwL+2e7fAgL+mNR1AsTcorYCApTO7LQIAoGx5usOAtSd5Z8MAomV7J8DAoim7MAEAvqYgHYC/9mK3wICqNGtwAEChZWInwMC0a6xwAEC/piEdgLhrdC2BAKUsbLrDgLxx7u1DwLrrYC3BALK4/2ABQLuzpi0CAL02frfAgLtq4npAQKhuJPqCwL8x++1DwLpzsC0CALuq5npAQKfwNPeDwKCwP/eDwKxuN/qCwLi2Z7fAgK91JW2AQL/sqv0CwKTwPfeDwLjq5XpAQL2x5+1DwKQse7rDgK95+apBgKFsebrDgKy5/qpBgK9uJPqCwKEsbbrDgKxuJ/qCwLZspv0CwLmrby3BAKDwMfeDwL9tP7BDgKTsdLqDgLhrYi3BAKOlfCfAwKiuPvqCwKwuOvqCwKBzrC0CALT3Oa1AgL6mMB1AoDAr98PAoaV1J8DAp6D6fUNAquK5vQOArnNs6wPAqmKpvUOAruKvvUOAu+Y1HUCrZzRngwCpYr+9A4C7/z9qgUC/certQ8CopzJngwC3tzWtQIC5JisdgLsmIR2ApPO+LQIAoWVkJ8DAv3H17QPAsvHl7UPApmV3J8DAoCVwJ8DAo3n4qkGAubqloAGAuX8+aoFAr+K4vQOAr3U5bYBAoTAm94PAtyuxd8BAo/UpbYBAqG49+oLAsTj4YAFAqmc5Z8MAo/nzqkGAunO6LQIAq+cvZ8MAt6uyd8BAprOxLQIAufq2p8GAuzOxLQIAs3H17QPAt/cyrUCAt3jwYAFAoCV5J8DAvfH77UPAsiyt/QLApvA/94PAqrR0d8BAvDZkt8CAqOK/vQOArDU9bYBAv60ysEOAuaYhHYC7/yFqgUC89ni3wICkrHi6w4Clc7EtAgCnLGS6w4C1q7R3wECh7G26w4C5NnW3gICk7Hm6w4C+ZjYdQKo36K2AgL/x4u1DwLq/KmrBQKritr0DgKSsbbrDgL1x4u1DwL0x7+1DwLg/LWqBQL/x7+1DwK8uO/qCwLSrrnAAQL5x5+1DwKyuJPqCwLAx9+0DwLP4+2ABQLr/PmqBQLE4+2ABQLSn7BsAsTjoYEFAvfHw7QPAvfHh7UPAreV/J8DAvTHo7UPAv+YvHYCiJXknwMC0Z3dngwC6s7AtAgCitSxtgEC266twAECsaaIwAQC/ZiodgKIldifAwLVrvHfAQKdwP/eDwLItPLBDgK3poDABAL4mPB1Av2rlekBAsjHk7UPAp6x4usOAvLHk7UPArfnpqoGAsLj9YAFAp78gaoFAp78+aoFAoSV2J8DAv7Zjt8CAvbHp7UPAt+utcABAvf1jKsIApPOwLQIAtGdiZ8MAvnquoAGAs20rsIOAufqqoAGAvmY0HUChLH+6w4C+NmC3wICza753wEC9MfDtA8C2+PRgAUCq5zJngwC052lnwwC2+PFgAUCksD33g8CmZXEnwMCsNSptgEC/piMdgKypuDABAKUsf7rDgLrzsS0CAKNlfSfAwKriuL0DgKunMmeDALh/JmqBQKcsZ7rDgKe/PGqBQL/2brfAgLHrr3AAQKFlYCfAwLwmKh2Ao6DjfUNAuvO/LQIAvCYhHYC1q7F3wEChpX0nwMC6vyNqgUC7JiMdgLgmNR1AtWuxd8BApqx4usOAqKcrZ8MAojUgbYBAtbclrUCAqKcwZ4MAuvOyLQIAqjfqrYCAoWxnusOAv+YhHYCi5WQnwMClvy9qgUClbH+6w4C5dm+3wIC+JiIdgLOsuP0CwL0sprmDgLmwPTHBAL40JWiCrlJbFdyOlLdJ7rnrJZeaI67Oljq) (readonly)>\n",
        "  <SelectControl(ctl00$ContentPlaceHolder1$ddlApplications=[IV, *NIV])>\n",
        "  <SelectControl(ctl00$ContentPlaceHolder1$ddlLocation=[, KBL, TIA, ALG, LUA, BNS, YRV, MLB, PRT, SYD, VNN, BKU, NSS, MNA, DHK, BGN, MSK, BRS, BLZ, COT, HML, LPZ, SAR, GAB, BRA, RCF, RDJ, SPL, BSB, SOF, OUG, RNG, BUJ, PIA, PHP, YDE, CLG, HLF, MTL, OTT, QBC, TRT, VAC, NDJ, SNT, BEJ, CHE, GUZ, *SHG, SNY, BGT, BRZ, KIN, SNJ, ABJ, ZGB, HAV, NCS, PRG, CPN, DJI, SDO, GYQ, QTO, CRO, SNS, LND, MBO, ASM, TAL, ADD, SUV, HLS, PRS, LIB, BAN, TBL, BRL, FRN, MUN, ACC, ATH, GTM, GEO, PTP, TGG, HNK, BDP, RKJ, MDR, HYD, CLC, BMB, NWD, JAK, SRB, BGH, ERB, DBL, TLV, FLR, MLN, NPL, RME, KNG, FKK, NHA, KBO, SPP, TKY, JRS, AMM, ATA, AST, NRB, KWT, BKK, VNT, RGA, BRT, MAS, MRV, VIL, LXM, SKO, ANT, LIL, KLL, BAM, VLL, MAJ, NUK, PTL, CDJ, GDL, HER, MTM, MER, MEX, MTR, NGL, NVL, TJN, KOL, CHS, ULN, POD, CSB, MAP, WHK, KDU, AMS, USN, ACK, MNG, NMY, ABU, LGS, BLF, OSL, MST, ISL, KRC, KOR, PNM, PTM, ASN, LMA, MNL, KRK, WRW, LSB, PTD, DOH, CRY, BCH, MOS, SPT, VLA, YEK, KGL, DHR, JDD, RID, DKR, BLG, FTN, SGP, BTS, LJU, CPT, DRB, JHN, SEO, MDD, CLM, KHT, PRM, MBA, STK, BEN, DMS, TAI, DHB, DRS, BNK, CHN, LOM, PTS, TNS, ANK, IST, AKD, KMP, KEV, ABD, DUB, MTV, THT, CRS, HAN, HCM, DPT, SAA, LUS, HRE])>\n",
        "  <TextControl(ctl00$ContentPlaceHolder1$txbCase=AA0050255Q)>\n",
        "  <ImageControl(ctl00$ContentPlaceHolder1$btnSubmit=<None>)>>\n"
       ]
      }
     ],
     "prompt_number": 48
    },
    {
     "cell_type": "code",
     "collapsed": false,
     "input": [
      "response = urlopen(form.click(\"ctl00$ContentPlaceHolder1$btnSubmit\"))"
     ],
     "language": "python",
     "metadata": {},
     "outputs": [],
     "prompt_number": 49
    },
    {
     "cell_type": "code",
     "collapsed": false,
     "input": [
      "print response.info()"
     ],
     "language": "python",
     "metadata": {},
     "outputs": [
      {
       "output_type": "stream",
       "stream": "stdout",
       "text": [
        "Cache-Control: private\r\n",
        "Content-Length: 3807\r\n",
        "Content-Type: text/html; charset=utf-8\r\n",
        "Server: Microsoft-IIS/7.5\r\n",
        "X-AspNet-Version: 2.0.50727\r\n",
        "Set-Cookie: ASP.NET_SessionId=ljqqde45l3xswe31laxw04yq; path=/; HttpOnly\r\n",
        "X-Powered-By: ASP.NET\r\n",
        "Date: Sat, 27 Jun 2015 14:47:27 GMT\r\n",
        "Connection: close\r\n",
        "Set-Cookie: BIGipServerCEAC_Pool=412854464.20480.0000; path=/\r\n",
        "\n"
       ]
      }
     ],
     "prompt_number": 50
    },
    {
     "cell_type": "code",
     "collapsed": false,
     "input": [
      "print response.readlines()"
     ],
     "language": "python",
     "metadata": {},
     "outputs": [
      {
       "output_type": "stream",
       "stream": "stdout",
       "text": [
        "['\\r\\n', '\\r\\n', '<!DOCTYPE html PUBLIC \"-//W3C//DTD XHTML 1.0 Transitional//EN\" \"http://www.w3.org/TR/xhtml1/DTD/xhtml1-transitional.dtd\">\\r\\n', '\\r\\n', '<html xmlns=\"http://www.w3.org/1999/xhtml\">\\r\\n', '<head id=\"ctl00_Head1\"><title>\\r\\n', '\\tCEAC\\r\\n', '</title><link rel=\"Shortcut Icon\" href=\"../favicon.ico\" /><link href=\"../_res/css/screen.css\" rel=\"stylesheet\" type=\"text/css\" media=\"screen\" />\\r\\n', '<link href=\"/CEACStatTracker/WebResource.axd?d=tx5CFUYONOKa1dnHg1A6h0OWILx-ktX4dBD9wnDGEQcLheCUwZuLU2cylg2tYuF1CxmxxrnhXIelnbKU7GNFIkRbOnk0x5MbrIm6Xh-m6dBSWkGDeppjaiCdN2xvYGtS28brew2&amp;t=634728604440000000\" rel=\"stylesheet\" /></head>\\r\\n', '<body>\\r\\n', '    <form name=\"aspnetForm\" method=\"post\" action=\"Error.aspx\" id=\"aspnetForm\" enctype=\"multipart/form-data\">\\r\\n', '<input type=\"hidden\" name=\"ctl00_ToolkitScriptManager1_HiddenField\" id=\"ctl00_ToolkitScriptManager1_HiddenField\" value=\"\" />\\r\\n', '<input type=\"hidden\" name=\"__VIEWSTATE\" id=\"__VIEWSTATE\" value=\"/wEPaA8FDzhkMjdlZGRjYjVhNjQ0NGRKkECwL3fuoPHt9thy6d14ik9cwQ==\" />\\r\\n', '\\r\\n', '\\r\\n', '<script src=\"/CEACStatTracker/WebResource.axd?d=aK-KzdP07dcjKYY4TKOVZP185nqqiQLwELERZfvHT8PpZq8-LSmx_yrTlpqB3hHk0fEryXmVc9GDMk0HTs7m8c52jSOu7vJvTxzetrK7fSTrGV-xa_6yM6areEvTVyxJsFJy2A2&amp;t=634728604440000000\" type=\"text/javascript\"></script>\\r\\n', '<script src=\"/CEACStatTracker/ScriptResource.axd?d=qtLlIVXcPZ4fID1QQ1Az3noNmXtd6cvWn16VjCxgzBGLRYa_wxhyfGROlYnA5QaNzyFn0JnesQhWvXR2VZaaaXdoHy4HDmr0zQSzexaxgmt-Owm9MLrr6f63zpcCrJL1tqpBeA2&amp;t=705c9838\" type=\"text/javascript\"></script>\\r\\n', '<script type=\"text/javascript\">\\r\\n', '//<![CDATA[\\r\\n', \"if (typeof(Sys) === 'undefined') throw new Error('ASP.NET Ajax client-side framework failed to load.');\\r\\n\", '//]]>\\r\\n', '</script>\\r\\n', '\\r\\n', '<input type=\"hidden\" name=\"__VIEWSTATEGENERATOR\" id=\"__VIEWSTATEGENERATOR\" value=\"91E39452\" />\\r\\n', '    \\r\\n', '    <span id=\"ctl00_ToolTipManager\">\\r\\n', '<div id=\"bubble_tooltip\">\\r\\n', '    <div class=\"bubble_middle\" style=\"direction:ltr;\">\\r\\n', '        <span id=\"bubble_tooltip_content\" ></span></div>\\r\\n', '    </div>\\r\\n', '    <div id=\"widebubble_tooltip\">\\r\\n', '    <div class=\"widebubble_middle\" style=\"direction:ltr;\">\\r\\n', '    <span id=\"widebubble_tooltip_content\" ></span></div>\\r\\n', '</div></span>\\r\\n', '    <div id=\"container\">\\r\\n', '        <div id=\"branding\">\\r\\n', '            <div id=\"branding-logo\">\\r\\n', '                <img src=\"../_res/img/design/banner.png\" id=\"ctl00_Img1\" alt=\"U.S. Department of State Electronic Application Center\" />\\r\\n', '            </div>\\r\\n', '        </div>\\r\\n', '        <hr />\\r\\n', '        <div id=\"nav\">            \\r\\n', '        </div>\\r\\n', '        <div id=\"content_no_nav\">\\r\\n', '            <div id=\"content-main\">\\r\\n', '                \\r\\n', '    <h2>Application Error</h2>\\r\\n', '\\r\\n', '    <div>An unexpected error has occurred while processing your previous request.  The error has been reported to the site administrator; no further action is required.</div>\\r\\n', '    <br /><br />\\r\\n', '    <div style=\"text-align:center;\">\\r\\n', '        <input type=\"button\" value=\"OK\" onclick=\"javascript:window.location = \\'../Status.aspx\\'; return false;\" class=\"blankbluebutton\" />\\r\\n', '    </div>\\r\\n', '    <br /><br />\\r\\n', '\\r\\n', '            </div>\\r\\n', '        </div>\\r\\n', '        <div id=\"ctl00_pnlSiteInfo\">\\r\\n', '\\t\\r\\n', '            <div id=\"siteinfo\">\\r\\n', '                <div id=\"siteinfo-legal\">\\r\\n', '                    <p>\\r\\n', '                        <span id=\"ctl00_siteinfoLabel\">This site is managed by the Bureau of Consular Affairs, U.S. Department of State. External links to other Internet sites should not be construed as an endorsement of the views contained therein. </span><br />                        \\r\\n', '                    </p>\\r\\n', '                </div>\\r\\n', '            </div>\\r\\n', '        \\r\\n', '</div>\\r\\n', '    </div>\\r\\n', '    \\r\\n', '\\r\\n', '<script type=\"text/javascript\">\\r\\n', '//<![CDATA[\\r\\n', '(function() {var fn = function() {$get(\"ctl00_ToolkitScriptManager1_HiddenField\").value = \\'\\';Sys.Application.remove_init(fn);};Sys.Application.add_init(fn);})();Sys.Application.initialize();\\r\\n', '//]]>\\r\\n', '</script>\\r\\n', '</form>\\r\\n', '</body>\\r\\n', '</html>\\r\\n']\n"
       ]
      }
     ],
     "prompt_number": 51
    },
    {
     "cell_type": "code",
     "collapsed": false,
     "input": [],
     "language": "python",
     "metadata": {},
     "outputs": []
    }
   ],
   "metadata": {}
  }
 ]
}